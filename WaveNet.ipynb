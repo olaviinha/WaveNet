{
  "nbformat": 4,
  "nbformat_minor": 0,
  "metadata": {
    "colab": {
      "name": "WaveNet.ipynb",
      "provenance": [],
      "collapsed_sections": [],
      "toc_visible": true,
      "authorship_tag": "ABX9TyNNyqseyAPBrDyUtE+XSqyu",
      "include_colab_link": true
    },
    "kernelspec": {
      "name": "python3",
      "display_name": "Python 3"
    },
    "accelerator": "GPU"
  },
  "cells": [
    {
      "cell_type": "markdown",
      "metadata": {
        "id": "view-in-github",
        "colab_type": "text"
      },
      "source": [
        "<a href=\"https://colab.research.google.com/github/olaviinha/WaveNet-colab/blob/master/WaveNet.ipynb\" target=\"_parent\"><img src=\"https://colab.research.google.com/assets/colab-badge.svg\" alt=\"Open In Colab\"/></a>"
      ]
    },
    {
      "cell_type": "markdown",
      "metadata": {
        "id": "kcrlNc-1QkXT",
        "colab_type": "text"
      },
      "source": [
        "## WaveNet – Train & generate (44.1kHz sample rate)"
      ]
    },
    {
      "cell_type": "markdown",
      "metadata": {
        "id": "Zidq9-vvLF7l",
        "colab_type": "text"
      },
      "source": [
        "This is a slightly modified version of [A TensorFlow implementation of DeepMind's WaveNet paper](https://github.com/ibab/tensorflow-wavenet) to be run in Google Colab, using Google Drive as data storage.\n",
        "\n",
        "<b>Howto</b>\n",
        "*   Set all direcotries (`***_dir` variables under <i>Settings</i>) relative to your Google Drive root.\n",
        "*   Select <i>Runtime > Run all</i> from the menu.\n",
        "\n",
        "<font color=\"#d99\">Current bugs:</font>\n",
        "*   Due to version prerequisition mismatches in Colab, this is currently unable to continue training from any previous checkpoint. Though it may come as consolation that you can exit Colab and leave it running, easily achieving 1e5 steps in one go.\n",
        "\n"
      ]
    },
    {
      "cell_type": "code",
      "metadata": {
        "id": "FEzPcKDhIQ9P",
        "colab_type": "code",
        "cellView": "form",
        "colab": {}
      },
      "source": [
        "#@title Mount Drive & clone repository\n",
        "\n",
        "%tensorflow_version 1.x\n",
        "from google.colab import drive\n",
        "drive.mount('/content/drive')\n",
        "%cd /content\n",
        "!git clone https://github.com/olaviinha/tensorflow-wavenet.git\n",
        "%cd /content/tensorflow-wavenet\n",
        "!git pull"
      ],
      "execution_count": null,
      "outputs": []
    },
    {
      "cell_type": "code",
      "metadata": {
        "id": "H4tGqw85JBeW",
        "colab_type": "code",
        "cellView": "form",
        "colab": {}
      },
      "source": [
        "#@title ## Settings\n",
        "#@markdown <pre><b>Common</b></pre>\n",
        "##@markdown <small>`generate_every` is the number of steps to Train every time before generating audio from achieved checkpoint. This is required only when Train & Generate is selected from the first dropdown.</small><br>\n",
        "#@markdown <small>`checkpoints_dir` is the directory where checkpoints will be <font color=\"#d99\">saved to when training</font> and <font color=\"#d99\">read from when generating</font>.</small>\n",
        "what_to_do = \"Generate\" #@param [\"Train\", \"Generate\"]\n",
        "#generate_every = 5000 #@param {type:\"integer\"}\n",
        "checkpoints_dir = \"ai/training/wavenet\" #@param {type:\"string\"}\n",
        "\n",
        "#@markdown <pre><b>Training settings</b> <font color=\"#888\">(ignore when generating)</font></pre>\n",
        "#@markdown <small>Directory of WAV files to train from:</small>\n",
        "corpus_dir = \"ai/input/audiofiles\" #@param {type:\"string\"}\n",
        "\n",
        "#@markdown <pre><b>Generation settings</b> <font color=\"#888\">(ignore when training)</font></pre>\n",
        "#@markdown <small>`seconds` is the duration of generated audio.</small><br>\n",
        "#@markdown <small>Leave `checkpoint` blank to use latest found checkpoint from `checkpoints_dir`. Otherwise path to checkpoint (relative to `checkpoints_dir`<i>/train/</i>). Example value: `2020-07-15T14-30-32/model.ckpt-32050`</small>\n",
        "output_dir = \"ai/output/wavenet\" #@param {type:\"string\"}\n",
        "seconds = 10 #@param {type:\"slider\", min:5, max:60, step:1}\n",
        "checkpoint = \"\" #@param {type:\"string\"}\n",
        "\n",
        "checkpoint_input = checkpoint;\n",
        "samplerate = 44100\n",
        "samples = str(samplerate*seconds)\n",
        "\n",
        "drive_root = \"/content/drive/My Drive/\"\n",
        "checkpoints_dir = drive_root+checkpoints_dir\n",
        "corpus_dir = drive_root+corpus_dir\n",
        "output_dir = drive_root+output_dir\n",
        "\n",
        "import ntpath\n",
        "import random\n",
        "import string\n",
        "from glob import glob\n",
        "from IPython.display import Audio\n",
        "\n",
        "def remove_slash(s):\n",
        "  if s.endswith('/'):\n",
        "    s = s[:-1]\n",
        "  return s\n",
        "\n",
        "def rndStr(length):\n",
        "    letters = string.ascii_lowercase\n",
        "    result_str = ''.join(random.choice(letters) for i in range(length))\n",
        "    return result_str\n",
        "\n",
        "def path_leaf(path):\n",
        "    head, tail = ntpath.split(path)\n",
        "    return tail or ntpath.basename(head)\n",
        "\n",
        "def opts(mode, output):\n",
        "  if checkpoint_input is \"\":\n",
        "    trainDirs = glob(checkpoints_dir+\"/train/*/\")\n",
        "    trainDirs.sort()\n",
        "    last = trainDirs[-1]\n",
        "    checkpoints = glob(last+\"/*\")\n",
        "    checkpoints.sort()\n",
        "    checkpoint = checkpoints[-1]\n",
        "  else:\n",
        "    checkpoint = checkpoints_dir+\"/train/\"+checkpoint_input\n",
        "\n",
        "  if mode is \"gen\":\n",
        "    checkpoint = checkpoint.replace(\".meta\", \"\").replace(\".index\", \"\").replace(\".data-00000-of-00001\", \"\")\n",
        "    ckpt = path_leaf(checkpoint).replace(\"model.ckpt-\", \"\")\n",
        "    output_file = output_dir+\"/generated-ckpt-\"+ckpt+\"-\"+str(seconds)+\"s-\"+rndStr(4)+\".wav\"\n",
        "  else:\n",
        "    checkpoint = checkpoint.replace(path_leaf(checkpoint), \"\")\n",
        "  if output is \"output\":\n",
        "    return output_file\n",
        "  else:\n",
        "    return checkpoint\n",
        "\n",
        "remove_slash(checkpoints_dir)\n",
        "remove_slash(corpus_dir)\n",
        "remove_slash(output_dir)"
      ],
      "execution_count": null,
      "outputs": []
    },
    {
      "cell_type": "code",
      "metadata": {
        "id": "xalGV0h4I-UC",
        "colab_type": "code",
        "colab": {}
      },
      "source": [
        "%cd /content/tensorflow-wavenet\n",
        "if what_to_do is \"Generate\":\n",
        "  cp = opts(\"gen\", \"cp\")\n",
        "  out = opts(\"gen\", \"output\")\n",
        "  print('\\n>> Generate from checkpoint', cp)\n",
        "  !python generate.py --samples={samples} --wav_out_path=\"{out}\" \"{cp}\"\n",
        "  print('\\n>> Generated file saved to', out)\n",
        "  Audio(output_file)\n",
        "elif what_to_do is \"Train\":\n",
        "  cp = opts(\"tra\", \"cp\")\n",
        "  print('\\n>> Restore checkpoint', cp)\n",
        "  !python train.py --data_dir=\"{corpus_dir}\" --logdir_root=\"{checkpoints_dir}\" --restore_from=\"{cp}\" --silence_threshold=0\n",
        "else:\n",
        "  while True:\n",
        "    cp = opts(\"tra\", \"cp\")\n",
        "    print('\\n>> Restore checkpoint', cp)\n",
        "    !python train.py --num_steps={generate_every} --data_dir=\"{corpus_dir}\" --logdir_root=\"{checkpoints_dir}\" --restore_from=\"{cp}\" --silence_threshold=0\n",
        "    cp = opts(\"gen\", \"cp\")\n",
        "    out = opts(\"gen\", \"output\")\n",
        "    print('\\n>> Generate from checkpoint', cp)\n",
        "    !python generate.py --samples={samples} --wav_out_path=\"{out}\" \"{cp}\"\n",
        "    print('\\n>> Generated file saved to', out)\n",
        "    continue"
      ],
      "execution_count": null,
      "outputs": []
    }
  ]
}